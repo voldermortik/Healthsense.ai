{
 "cells": [
  {
   "cell_type": "code",
   "execution_count": 5,
   "id": "9d2aa23d-aa1f-4eae-ba74-6895e9d0feaf",
   "metadata": {},
   "outputs": [],
   "source": [
    "import pandas as pd\n",
    "import random"
   ]
  },
  {
   "cell_type": "code",
   "execution_count": 6,
   "id": "4c46a42a-5f49-4261-801b-852017a4fa03",
   "metadata": {},
   "outputs": [],
   "source": [
    "zip_codes = [\n",
    "    10001, 10002, 10003, 20001, 20002, 30001, 30301, 33101, 60601, 70112,\n",
    "    73301, 85001, 90001, 94101, 98101, 94404\n",
    "]"
   ]
  },
  {
   "cell_type": "code",
   "execution_count": 7,
   "id": "69c1bb82-01e4-4786-ab24-a452772cb497",
   "metadata": {},
   "outputs": [],
   "source": [
    "hospital_names = [\n",
    "    \"General Hospital\", \"St. Mary's Medical Center\", \"City Care Hospital\",\n",
    "    \"Hope Health Clinic\", \"Wellness Medical Institute\", \"Pine Valley Hospital\",\n",
    "    \"Greenwood Healthcare\", \"Riverbend Medical Center\", \"Summit Hospital\",\n",
    "    \"Sunrise Medical Center\", \"Clearview Hospital\", \"Lakeside Medical Center\",\n",
    "    \"Evergreen Health Center\", \"Highland Hospital\", \"Crestwood Clinic\"\n",
    "]"
   ]
  },
  {
   "cell_type": "code",
   "execution_count": 8,
   "id": "11a843da-751d-4233-91fa-06dbffe73469",
   "metadata": {},
   "outputs": [],
   "source": [
    "data = []\n",
    "for zip_code in zip_codes:\n",
    "    for _ in range(random.randint(1, 3)):  # 1-3 hospitals per zip code\n",
    "        hospital = random.choice(hospital_names)\n",
    "        ambulance_availability = random.choice([\"Yes\", \"No\"])\n",
    "        data.append({\n",
    "            \"Zip Code\": zip_code,\n",
    "            \"Hospital Name\": hospital,\n",
    "            \"Ambulance Available\": ambulance_availability\n",
    "        })"
   ]
  },
  {
   "cell_type": "code",
   "execution_count": 10,
   "id": "11c95928-2e34-4bab-931d-b58e94b37355",
   "metadata": {},
   "outputs": [
    {
     "data": {
      "text/html": [
       "<div>\n",
       "<style scoped>\n",
       "    .dataframe tbody tr th:only-of-type {\n",
       "        vertical-align: middle;\n",
       "    }\n",
       "\n",
       "    .dataframe tbody tr th {\n",
       "        vertical-align: top;\n",
       "    }\n",
       "\n",
       "    .dataframe thead th {\n",
       "        text-align: right;\n",
       "    }\n",
       "</style>\n",
       "<table border=\"1\" class=\"dataframe\">\n",
       "  <thead>\n",
       "    <tr style=\"text-align: right;\">\n",
       "      <th></th>\n",
       "      <th>Zip Code</th>\n",
       "      <th>Hospital Name</th>\n",
       "      <th>Ambulance Available</th>\n",
       "    </tr>\n",
       "  </thead>\n",
       "  <tbody>\n",
       "    <tr>\n",
       "      <th>0</th>\n",
       "      <td>10001</td>\n",
       "      <td>Crestwood Clinic</td>\n",
       "      <td>No</td>\n",
       "    </tr>\n",
       "    <tr>\n",
       "      <th>1</th>\n",
       "      <td>10001</td>\n",
       "      <td>Wellness Medical Institute</td>\n",
       "      <td>No</td>\n",
       "    </tr>\n",
       "    <tr>\n",
       "      <th>2</th>\n",
       "      <td>10002</td>\n",
       "      <td>Greenwood Healthcare</td>\n",
       "      <td>Yes</td>\n",
       "    </tr>\n",
       "    <tr>\n",
       "      <th>3</th>\n",
       "      <td>10002</td>\n",
       "      <td>Riverbend Medical Center</td>\n",
       "      <td>No</td>\n",
       "    </tr>\n",
       "    <tr>\n",
       "      <th>4</th>\n",
       "      <td>10002</td>\n",
       "      <td>City Care Hospital</td>\n",
       "      <td>No</td>\n",
       "    </tr>\n",
       "  </tbody>\n",
       "</table>\n",
       "</div>"
      ],
      "text/plain": [
       "   Zip Code               Hospital Name Ambulance Available\n",
       "0     10001            Crestwood Clinic                  No\n",
       "1     10001  Wellness Medical Institute                  No\n",
       "2     10002        Greenwood Healthcare                 Yes\n",
       "3     10002    Riverbend Medical Center                  No\n",
       "4     10002          City Care Hospital                  No"
      ]
     },
     "execution_count": 10,
     "metadata": {},
     "output_type": "execute_result"
    }
   ],
   "source": [
    "df = pd.DataFrame(data)\n",
    "df.head()"
   ]
  },
  {
   "cell_type": "code",
   "execution_count": 11,
   "id": "c19fdc42-8c13-40fa-a9f4-cf5de2d7f84f",
   "metadata": {},
   "outputs": [],
   "source": [
    "df.to_csv(\"hospitals_emergency_data.csv\", index=False)"
   ]
  },
  {
   "cell_type": "code",
   "execution_count": null,
   "id": "b0399187-bc64-416b-8643-c47c15d019d0",
   "metadata": {},
   "outputs": [],
   "source": []
  }
 ],
 "metadata": {
  "kernelspec": {
   "display_name": "Python 3 (ipykernel)",
   "language": "python",
   "name": "python3"
  },
  "language_info": {
   "codemirror_mode": {
    "name": "ipython",
    "version": 3
   },
   "file_extension": ".py",
   "mimetype": "text/x-python",
   "name": "python",
   "nbconvert_exporter": "python",
   "pygments_lexer": "ipython3",
   "version": "3.13.1"
  }
 },
 "nbformat": 4,
 "nbformat_minor": 5
}
