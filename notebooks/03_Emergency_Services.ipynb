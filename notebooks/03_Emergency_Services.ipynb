{
 "cells": [
  {
   "cell_type": "code",
   "execution_count": 1,
   "id": "cccdd5dc-4c49-4e2b-b531-8bea9370ff09",
   "metadata": {},
   "outputs": [],
   "source": [
    "import pandas as pd\n",
    "from langchain_experimental.agents.agent_toolkits import create_pandas_dataframe_agent\n",
    "from langchain_openai import ChatOpenAI\n",
    "from langchain.agents.agent_types import AgentType\n",
    "import httpx\n",
    "from langchain_core.prompts import SystemMessagePromptTemplate, HumanMessagePromptTemplate, ChatPromptTemplate, PromptTemplate\n",
    "from langchain.memory import ConversationBufferMemory\n",
    "from langchain.chains import LLMChain\n",
    "from langchain_experimental.sql.base import SQLDatabaseChain\n",
    "from langchain_community.utilities import SQLDatabase\n",
    "from langchain_community.agent_toolkits import SQLDatabaseToolkit\n",
    "from langchain_core.messages import AIMessage, SystemMessage\n",
    "from langchain_core.prompts.chat import (\n",
    "    ChatPromptTemplate,\n",
    "    HumanMessagePromptTemplate,\n",
    "    MessagesPlaceholder,\n",
    ")\n",
    "from langchain_community.agent_toolkits.sql.prompt import SQL_FUNCTIONS_SUFFIX\n",
    "from langchain.agents import AgentExecutor, create_openai_tools_agent, create_openai_functions_agent\n",
    "import sqlite3"
   ]
  },
  {
   "cell_type": "code",
   "execution_count": 2,
   "id": "bc9739f0-8946-43e3-9101-476f4a5e8d87",
   "metadata": {},
   "outputs": [],
   "source": "API_KEY = \"\""
  },
  {
   "cell_type": "code",
   "execution_count": 3,
   "id": "584d55a0-0790-4253-a053-15824c3f1594",
   "metadata": {},
   "outputs": [],
   "source": [
    "csv_file = \"../data/hospitals_emergency_data.csv\"\n",
    "df = pd.read_csv(csv_file)"
   ]
  },
  {
   "cell_type": "code",
   "execution_count": 4,
   "id": "4c24dbd6-4162-45fb-92c0-dfc0b492bd99",
   "metadata": {},
   "outputs": [],
   "source": "conn = sqlite3.connect(\"../src/emergency.db\")"
  },
  {
   "cell_type": "code",
   "execution_count": 5,
   "id": "4e6d173f-1f21-48a5-8eb2-ae43e0dca30c",
   "metadata": {},
   "outputs": [],
   "source": [
    "cursor = conn.cursor()"
   ]
  },
  {
   "cell_type": "code",
   "execution_count": 6,
   "id": "bad98d98-3c98-4c6c-b41b-fe613ac9f41f",
   "metadata": {},
   "outputs": [
    {
     "data": {
      "text/plain": [
       "<sqlite3.Cursor at 0x105a9d1c0>"
      ]
     },
     "execution_count": 6,
     "metadata": {},
     "output_type": "execute_result"
    }
   ],
   "source": [
    "cursor.execute(\"\"\"\n",
    "    CREATE TABLE IF NOT EXISTS emergency_directory (\n",
    "        id INTEGER PRIMARY KEY AUTOINCREMENT,\n",
    "        zip_code TEXT NOT NULL,\n",
    "        hospital_name TEXT NOT NULL,\n",
    "        ambulance_available TEXT NOT NULL\n",
    "    )\n",
    "\"\"\")"
   ]
  },
  {
   "cell_type": "code",
   "execution_count": 7,
   "id": "1212e8b1-2c4b-4b72-a0dc-662b214e266f",
   "metadata": {},
   "outputs": [
    {
     "data": {
      "text/plain": [
       "31"
      ]
     },
     "execution_count": 7,
     "metadata": {},
     "output_type": "execute_result"
    }
   ],
   "source": [
    "df.to_sql(\"emergency_directory\", conn, if_exists=\"replace\", index=False)"
   ]
  },
  {
   "cell_type": "code",
   "execution_count": 8,
   "id": "b6b35a12-04b4-4e8d-8439-c0ab69d53be2",
   "metadata": {},
   "outputs": [
    {
     "name": "stdout",
     "output_type": "stream",
     "text": [
      "(10001, 'Crestwood Clinic', 'No')\n",
      "(10001, 'Wellness Medical Institute', 'No')\n",
      "(10002, 'Greenwood Healthcare', 'Yes')\n",
      "(10002, 'Riverbend Medical Center', 'No')\n",
      "(10002, 'City Care Hospital', 'No')\n"
     ]
    }
   ],
   "source": [
    "cursor.execute(\"SELECT * FROM emergency_directory LIMIT 5;\")\n",
    "rows = cursor.fetchall()\n",
    "for row in rows:\n",
    "    print(row)"
   ]
  },
  {
   "cell_type": "code",
   "execution_count": 9,
   "id": "814b494c-798a-40aa-bdc3-735efae3177b",
   "metadata": {},
   "outputs": [],
   "source": [
    "conn.close()"
   ]
  },
  {
   "cell_type": "code",
   "execution_count": 16,
   "id": "08482a0d-90ea-440b-ac11-a1ea160b14ef",
   "metadata": {},
   "outputs": [],
   "source": [
    "memory = ConversationBufferMemory(memory_key=\"history\")\n",
    "llm = ChatOpenAI(openai_api_key=API_KEY, temperature=0, model=\"gpt-4o-2024-08-06\", max_tokens=500, http_client = httpx.Client(verify=False))"
   ]
  },
  {
   "cell_type": "code",
   "execution_count": 17,
   "id": "6d91774a-09cf-4fe6-9488-f81aa3a199ba",
   "metadata": {},
   "outputs": [],
   "source": [
    "db = SQLDatabase.from_uri(\"sqlite:///emergency.db\")\n",
    "toolkit = SQLDatabaseToolkit(db=db, llm=llm)\n",
    "context = toolkit.get_context()\n",
    "tools = toolkit.get_tools()\n",
    "\n",
    "messages = [\n",
    "            HumanMessagePromptTemplate.from_template(\"{input}\"),\n",
    "            AIMessage(content=SQL_FUNCTIONS_SUFFIX + \"\\nUse like operator with lowercase when matching a name\\nWhen user is asking to book available ambulance, delete the corresponding hospital row from the table\\n\"),\n",
    "            MessagesPlaceholder(variable_name=\"agent_scratchpad\")\n",
    "            ]\n",
    "prompt = ChatPromptTemplate.from_messages(messages)\n",
    "prompt = prompt.partial(**context)\n",
    "agent = create_openai_tools_agent(llm, tools, prompt)\n",
    "agent_executor = AgentExecutor(\n",
    "            agent=agent,\n",
    "            tools=toolkit.get_tools(),\n",
    "            verbose=True,\n",
    "        )"
   ]
  },
  {
   "cell_type": "code",
   "execution_count": 18,
   "id": "7b15b45e-16f0-46ef-81f1-13a4a89661df",
   "metadata": {},
   "outputs": [],
   "source": [
    "user_input = 'any ambulance available at 94404'"
   ]
  },
  {
   "cell_type": "code",
   "execution_count": 19,
   "id": "e9441d31-57eb-462c-bc31-233ffcd60490",
   "metadata": {},
   "outputs": [
    {
     "name": "stdout",
     "output_type": "stream",
     "text": [
      "\n",
      "\n",
      "\u001B[1m> Entering new AgentExecutor chain...\u001B[0m\n",
      "\u001B[32;1m\u001B[1;3m\n",
      "Invoking: `sql_db_list_tables` with `{}`\n",
      "\n",
      "\n",
      "\u001B[0m\u001B[38;5;200m\u001B[1;3memergency_directory\u001B[0m\u001B[32;1m\u001B[1;3m\n",
      "Invoking: `sql_db_schema` with `{'table_names': 'emergency_directory'}`\n",
      "\n",
      "\n",
      "\u001B[0m\u001B[33;1m\u001B[1;3m\n",
      "CREATE TABLE emergency_directory (\n",
      "\t\"Zip Code\" INTEGER, \n",
      "\t\"Hospital Name\" TEXT, \n",
      "\t\"Ambulance Available\" TEXT\n",
      ")\n",
      "\n",
      "/*\n",
      "3 rows from emergency_directory table:\n",
      "Zip Code\tHospital Name\tAmbulance Available\n",
      "10001\tCrestwood Clinic\tNo\n",
      "10001\tWellness Medical Institute\tNo\n",
      "10002\tGreenwood Healthcare\tYes\n",
      "*/\u001B[0m\u001B[32;1m\u001B[1;3m\n",
      "Invoking: `sql_db_query` with `{'query': 'SELECT \"Hospital Name\" FROM emergency_directory WHERE \"Zip Code\" = 94404 AND \"Ambulance Available\" = \\'Yes\\''}`\n",
      "\n",
      "\n",
      "\u001B[0m\u001B[36;1m\u001B[1;3m[('Clearview Hospital',)]\u001B[0m\u001B[32;1m\u001B[1;3mYes, there is an ambulance available at Clearview Hospital in the 94404 area.\u001B[0m\n",
      "\n",
      "\u001B[1m> Finished chain.\u001B[0m\n"
     ]
    },
    {
     "data": {
      "text/plain": [
       "'Yes, there is an ambulance available at Clearview Hospital in the 94404 area.'"
      ]
     },
     "execution_count": 19,
     "metadata": {},
     "output_type": "execute_result"
    }
   ],
   "source": [
    "agent_executor.invoke({\"input\": user_input})['output']"
   ]
  },
  {
   "cell_type": "code",
   "execution_count": 20,
   "id": "a5b7c95e-61f6-43b1-8bfc-85cb339ffbb8",
   "metadata": {},
   "outputs": [
    {
     "name": "stdout",
     "output_type": "stream",
     "text": [
      "\n",
      "\n",
      "\u001B[1m> Entering new AgentExecutor chain...\u001B[0m\n",
      "\u001B[32;1m\u001B[1;3m\n",
      "Invoking: `sql_db_list_tables` with `{}`\n",
      "\n",
      "\n",
      "\u001B[0m\u001B[38;5;200m\u001B[1;3memergency_directory\u001B[0m\u001B[32;1m\u001B[1;3m\n",
      "Invoking: `sql_db_schema` with `{'table_names': 'emergency_directory'}`\n",
      "\n",
      "\n",
      "\u001B[0m\u001B[33;1m\u001B[1;3m\n",
      "CREATE TABLE emergency_directory (\n",
      "\t\"Zip Code\" INTEGER, \n",
      "\t\"Hospital Name\" TEXT, \n",
      "\t\"Ambulance Available\" TEXT\n",
      ")\n",
      "\n",
      "/*\n",
      "3 rows from emergency_directory table:\n",
      "Zip Code\tHospital Name\tAmbulance Available\n",
      "10001\tCrestwood Clinic\tNo\n",
      "10001\tWellness Medical Institute\tNo\n",
      "10002\tGreenwood Healthcare\tYes\n",
      "*/\u001B[0m\u001B[32;1m\u001B[1;3m\n",
      "Invoking: `sql_db_query_checker` with `{'query': 'SELECT \"Hospital Name\" FROM emergency_directory WHERE \"Zip Code\" = 94404 AND \"Ambulance Available\" = \\'Yes\\' LIMIT 1;'}`\n",
      "\n",
      "\n",
      "\u001B[0m\u001B[36;1m\u001B[1;3m```sql\n",
      "SELECT \"Hospital Name\" FROM emergency_directory WHERE \"Zip Code\" = 94404 AND \"Ambulance Available\" = 'Yes' LIMIT 1;\n",
      "```\u001B[0m\u001B[32;1m\u001B[1;3m\n",
      "Invoking: `sql_db_query` with `{'query': 'SELECT \"Hospital Name\" FROM emergency_directory WHERE \"Zip Code\" = 94404 AND \"Ambulance Available\" = \\'Yes\\' LIMIT 1;'}`\n",
      "\n",
      "\n",
      "\u001B[0m\u001B[36;1m\u001B[1;3m[('Clearview Hospital',)]\u001B[0m\u001B[32;1m\u001B[1;3m\n",
      "Invoking: `sql_db_query_checker` with `{'query': 'DELETE FROM emergency_directory WHERE \"Zip Code\" = 94404 AND \"Hospital Name\" = \\'Clearview Hospital\\';'}`\n",
      "\n",
      "\n",
      "\u001B[0m\u001B[36;1m\u001B[1;3m```sql\n",
      "DELETE FROM emergency_directory WHERE \"Zip Code\" = 94404 AND \"Hospital Name\" = 'Clearview Hospital';\n",
      "```\u001B[0m\u001B[32;1m\u001B[1;3m\n",
      "Invoking: `sql_db_query` with `{'query': 'DELETE FROM emergency_directory WHERE \"Zip Code\" = 94404 AND \"Hospital Name\" = \\'Clearview Hospital\\';'}`\n",
      "\n",
      "\n",
      "\u001B[0m\u001B[36;1m\u001B[1;3m\u001B[0m\u001B[32;1m\u001B[1;3mThe ambulance from Clearview Hospital near the 94404 zip code has been successfully booked for you.\u001B[0m\n",
      "\n",
      "\u001B[1m> Finished chain.\u001B[0m\n"
     ]
    },
    {
     "data": {
      "text/plain": [
       "'The ambulance from Clearview Hospital near the 94404 zip code has been successfully booked for you.'"
      ]
     },
     "execution_count": 20,
     "metadata": {},
     "output_type": "execute_result"
    }
   ],
   "source": [
    "agent_executor.invoke({\"input\": \"book the ambuance near 94404 zipcode\"})['output']"
   ]
  },
  {
   "cell_type": "code",
   "execution_count": null,
   "id": "d50ced0f-979e-402d-8e39-ee71a10d3239",
   "metadata": {},
   "outputs": [],
   "source": []
  }
 ],
 "metadata": {
  "kernelspec": {
   "display_name": "Python 3 (ipykernel)",
   "language": "python",
   "name": "python3"
  },
  "language_info": {
   "codemirror_mode": {
    "name": "ipython",
    "version": 3
   },
   "file_extension": ".py",
   "mimetype": "text/x-python",
   "name": "python",
   "nbconvert_exporter": "python",
   "pygments_lexer": "ipython3",
   "version": "3.12.2"
  }
 },
 "nbformat": 4,
 "nbformat_minor": 5
}
